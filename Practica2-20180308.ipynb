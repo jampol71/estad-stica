{
 "cells": [
  {
   "cell_type": "markdown",
   "metadata": {},
   "source": [
    "# Introducción\n",
    "\n",
    "En esta práctica vamos a repasar diferentes tests estadísticos. Para ello nos ayudamos de los datos publicados por BCSC:\n",
    "*NCI-funded Breast Cancer Surveillance Consortium (P01 CA154292 and HHSN261201100031C). Downloaded mm/dd/yyyy from the Breast Cancer Surveillance Consortium Web site - http://www.bcsc-research.org/data/index.html.*\n",
    "\n",
    "Concretamente a través de este enlace:\n",
    "http://www.bcsc-research.org/data/rf/app2/DownloadRequest.aspx\n",
    "\n",
    "\n",
    "El fichero *BCSC_risk_factors_summarized.csv* descargado lo teneis en la carpeta *data*.\n",
    "\n",
    "Ese fichero es un CSV, la descripción de cada columna se puede ver en la siguiente tabla:"
   ]
  },
  {
   "cell_type": "markdown",
   "metadata": {},
   "source": [
    "\n",
    "| Nombre de variable | Descripción | Código | \n",
    "|-|-|-|\n",
    "| year | Año de la observación | Numérico, 2000-2009 |\n",
    "| year_group_5_years| Edad (años) en grupos de 5 años |  1 = Edad 18-29;  2 = Edad 30-34; 3 = Edad 35-39; 4 = Edad 40-44; 5 = Edad 45-49; 6 = Edad 50-54; 7 = Edad 55-59; 8 = Edad 60-64; 9 = Edad 65-69; 10 = Edad 70-74; 11 = Edad 75-79; 12 = Edad 80-84; 13 = Edad ≥85 |\n",
    "| race_eth | Grupo étnico | 1 = Non-Hispanic white; 2 = Non-Hispanic black; 3 = Asian/Pacific Islander; 4 = Native American; 5 = Hispanic; 6 = Other/mixed; 9 = Desconocido |\n",
    "| first_degree_hx | Historial de cancer de un familiar de primer grado | 0 = No; 1 = Sí; 9 = Desconocido |\n",
    "| Edad_menarche | Edad (años) at menarche |0 = Edad ≥14; 1 = Edad 12-13; 2 = Edad <12; 9 = Desconocido\n",
    "| Edad_first_birth | Edad (años) at first birth | 0 = Edad < 20; 1 = Edad 20-24; 2 = Edad 25-29; 3 = Edad ≥30; 4 = Nulliparous; 9 = Desconocido |\n",
    "| BIRADS_breast_density | BI-RADS densidad del cancer de pecho| 1 = Almost entirely fat; 2 =Scattered fibroglandular densities; 3 = Heterogeneously dense; 4 = Extremely dense; 9 = Desconocido |\n",
    "| current_hrt | Uso de terapia de hormonas de reemplazo | 0 = No; 1 = Sí; 9 = Desconocido |\n",
    "| menopaus | Menopausal status | 1 = Pre- or peri-menopausal; 2 = Post-menopausal; 3 = Surgical menopause; 9 = Desconocido |\n",
    "| bmi_group |  Body mass index | 1 = 10-24.99; 2 = 25-29.99; 3 = 30-34.99; 4 = 35 or more; 9 = Desconocido |\n",
    "| biophx | Biopsia previa o aspiración | 0 = No; 1 = Sí; 9 = Desconocido |\n",
    "| breast_cancer_history | Cancer diagnosticado con anterioridad | 0 = No; 1 = Sí; 9 = Desconocido |\n",
    "| count | Número de ocurrencias de estas covariables | Numérico|\n",
    "\n",
    "\n"
   ]
  },
  {
   "cell_type": "markdown",
   "metadata": {},
   "source": [
    "Leemos los datos del csv y los adaptamos. Pasos a seguir:\n",
    "1. Replicamos las filas indicadas por la columna *count*\n",
    "2. Los datos son muy grandes, para agilizar la práctica nos quedamos con 5000 muestras elegidas con muestreo aleatorio simple. El resto se puede descartar.\n",
    "3. Se adapta el resto"
   ]
  },
  {
   "cell_type": "code",
   "execution_count": 2,
   "metadata": {},
   "outputs": [],
   "source": [
    "#cargamos librerias\n",
    "library(\"dplyr\",lib.loc = \"/home/vagrant/R/x86_64-pc-linux-gnu-library/3.2\")\n",
    "library(\"reshape\",lib.loc = \"/home/vagrant/R/x86_64-pc-linux-gnu-library/3.2\") "
   ]
  },
  {
   "cell_type": "code",
   "execution_count": 3,
   "metadata": {},
   "outputs": [],
   "source": [
    "# leemos los datos del csv\n",
    "df<-read.csv(\"datos/BCSC_risk_factors_summarized.csv\",sep=\",\",header = T)"
   ]
  },
  {
   "cell_type": "code",
   "execution_count": 4,
   "metadata": {},
   "outputs": [],
   "source": [
    "#ponemos los duplicados donde la columna count nos indique\n",
    "df <- df[rep(row.names(df), df$count), 1:(ncol(df)-1)]"
   ]
  },
  {
   "cell_type": "code",
   "execution_count": 5,
   "metadata": {},
   "outputs": [],
   "source": [
    "#seleccionamos muestra\n",
    "set.seed(12345)\n",
    "df_sample <- df[sample(nrow(df),5000),]"
   ]
  },
  {
   "cell_type": "code",
   "execution_count": 6,
   "metadata": {},
   "outputs": [],
   "source": [
    "#quitar desconocidos\n",
    "df_sample[,3:12][df_sample[,3:12] == 9] <- NA"
   ]
  },
  {
   "cell_type": "code",
   "execution_count": 7,
   "metadata": {},
   "outputs": [],
   "source": [
    " df_sample$BIRADS_breast_density <- factor(df_sample$BIRADS_breast_density, labels = c(\"Almost entirely fat\",\"Scattered fibroglandular densities\",\"Heterogeneously dense\",\"Extremely dense\"))"
   ]
  },
  {
   "cell_type": "code",
   "execution_count": 8,
   "metadata": {},
   "outputs": [],
   "source": [
    "df_sample$race_eth <- factor(df_sample$race_eth,labels = c(\"Non-Hispanic white\",\"Non-Hispanic black\", \"Asian/Pacific Islander\" , \"Native American\" , \"Hispanic\", \"Other/mixed\"))"
   ]
  },
  {
   "cell_type": "code",
   "execution_count": 9,
   "metadata": {},
   "outputs": [],
   "source": [
    "df_sample$first_degree_hx<-factor(df_sample$first_degree_hx,labels = c(\"NO\",\"SI\"))"
   ]
  },
  {
   "cell_type": "markdown",
   "metadata": {},
   "source": [
    "El número de filas tras replicar las filas indicadas por la columna *count* es de 6318638. Como este número es muy alto para la máquina virtual que tenemos vamos a realizar una muestreo aleatorio simple y nos quedaremos con 5000 filas. El resto se descartan.\n",
    "\n",
    "*Nota:*Para el muestreo usad la semilla 12345, de esta forma todos tendresmos exactamente los mismos resultados."
   ]
  },
  {
   "cell_type": "code",
   "execution_count": 10,
   "metadata": {},
   "outputs": [],
   "source": [
    "#Definimos una semilla común para todos:\n",
    "#set.seed(12345)"
   ]
  },
  {
   "cell_type": "markdown",
   "metadata": {},
   "source": [
    "Formatear el dataframe:\n",
    "* Cambiamos los *Desconocido* por NA en las columnas \"race_eth\", \"first_degree_hx\", \"age_menarche\", \"age_first_birth\", \"BIRADS_breast_density\", \"current_hrt\", \"menopaus\", \"bmi_group\", \"biophx\", \"breast_cancer_history\"\n",
    "* Convertimos a factores las columnas que vamos a necesitar"
   ]
  },
  {
   "cell_type": "markdown",
   "metadata": {},
   "source": [
    "#### Edad y Antecedentes familiares"
   ]
  },
  {
   "cell_type": "markdown",
   "metadata": {},
   "source": [
    "Creamos una nueva columna con la edad estimada para un posterior análisis"
   ]
  },
  {
   "cell_type": "markdown",
   "metadata": {},
   "source": [
    "Representa en un diagrama de cajas cómo varía la **edad de aparición del cancer** en función de si ha habido **antecedentes familiares** o no.\n",
    "Ayuda:\n",
    "- Hay que crear una nueva columna con la edad estimada de cada rango."
   ]
  },
  {
   "cell_type": "code",
   "execution_count": 11,
   "metadata": {},
   "outputs": [
    {
     "data": {
      "text/html": [
       "<table>\n",
       "<thead><tr><th scope=col>grupo</th><th scope=col>med</th></tr></thead>\n",
       "<tbody>\n",
       "\t<tr><td>1   </td><td>23.5</td></tr>\n",
       "\t<tr><td>2   </td><td>32.0</td></tr>\n",
       "\t<tr><td>3   </td><td>37.0</td></tr>\n",
       "\t<tr><td>4   </td><td>42.0</td></tr>\n",
       "\t<tr><td>5   </td><td>47.0</td></tr>\n",
       "\t<tr><td>6   </td><td>52.0</td></tr>\n",
       "</tbody>\n",
       "</table>\n"
      ],
      "text/latex": [
       "\\begin{tabular}{r|ll}\n",
       " grupo & med\\\\\n",
       "\\hline\n",
       "\t 1    & 23.5\\\\\n",
       "\t 2    & 32.0\\\\\n",
       "\t 3    & 37.0\\\\\n",
       "\t 4    & 42.0\\\\\n",
       "\t 5    & 47.0\\\\\n",
       "\t 6    & 52.0\\\\\n",
       "\\end{tabular}\n"
      ],
      "text/markdown": [
       "\n",
       "grupo | med | \n",
       "|---|---|---|---|---|---|\n",
       "| 1    | 23.5 | \n",
       "| 2    | 32.0 | \n",
       "| 3    | 37.0 | \n",
       "| 4    | 42.0 | \n",
       "| 5    | 47.0 | \n",
       "| 6    | 52.0 | \n",
       "\n",
       "\n"
      ],
      "text/plain": [
       "  grupo med \n",
       "1 1     23.5\n",
       "2 2     32.0\n",
       "3 3     37.0\n",
       "4 4     42.0\n",
       "5 5     47.0\n",
       "6 6     52.0"
      ]
     },
     "metadata": {},
     "output_type": "display_data"
    }
   ],
   "source": [
    "media <- c(mean(18:29), 32,37,42,47,52,57,62,67,72,77,82,87)\n",
    "edad <- data.frame (grupo = c(1:13),med = media)\n",
    "head(edad)"
   ]
  },
  {
   "cell_type": "code",
   "execution_count": 12,
   "metadata": {},
   "outputs": [],
   "source": [
    "df2 <- cbind(df_sample, edad_estimada=edad[df_sample$age_group_5_years, 2])"
   ]
  },
  {
   "cell_type": "code",
   "execution_count": 13,
   "metadata": {},
   "outputs": [],
   "source": [
    "df2 <- df2 %>% filter(!is.na(first_degree_hx))"
   ]
  },
  {
   "cell_type": "code",
   "execution_count": 14,
   "metadata": {},
   "outputs": [],
   "source": [
    "library(ggplot2)"
   ]
  },
  {
   "cell_type": "code",
   "execution_count": 15,
   "metadata": {},
   "outputs": [
    {
     "data": {},
     "metadata": {},
     "output_type": "display_data"
    },
    {
     "data": {
      "image/png": "[encoded data removed]",
      "text/plain": [
       "plot without title"
      ]
     },
     "metadata": {},
     "output_type": "display_data"
    }
   ],
   "source": [
    "\n",
    "ggplot (df2, aes(x=first_degree_hx, y=edad_estimada, group=first_degree_hx, color=first_degree_hx))+geom_boxplot()+ labs(title=\"Edad de aparicion del cancer / antecedentes familiares\" , x=\"Antecedentes familiares\", y=\"Edad aparicion\")\n"
   ]
  },
  {
   "cell_type": "code",
   "execution_count": 16,
   "metadata": {},
   "outputs": [],
   "source": [
    "df_edad_saf <- subset(na.omit(df2), first_degree_hx == \"NO\")\n",
    "df_edad_caf <- subset(na.omit(df2), first_degree_hx == \"SI\")"
   ]
  },
  {
   "cell_type": "markdown",
   "metadata": {},
   "source": [
    "¿Existe una diferencia estadística significativa entre la edad de aparición del cancer y si hay antecedentes familiares? ¿Que test usarías para comprobarlo?"
   ]
  },
  {
   "cell_type": "code",
   "execution_count": 19,
   "metadata": {},
   "outputs": [
    {
     "data": {
      "text/html": [
       "57.0196671709531"
      ],
      "text/latex": [
       "57.0196671709531"
      ],
      "text/markdown": [
       "57.0196671709531"
      ],
      "text/plain": [
       "[1] 57.01967"
      ]
     },
     "metadata": {},
     "output_type": "display_data"
    },
    {
     "data": {
      "text/html": [
       "57.7827380952381"
      ],
      "text/latex": [
       "57.7827380952381"
      ],
      "text/markdown": [
       "57.7827380952381"
      ],
      "text/plain": [
       "[1] 57.78274"
      ]
     },
     "metadata": {},
     "output_type": "display_data"
    }
   ],
   "source": [
    "mean(df_edad_saf$edad_estimada, na.rm = TRUE)\n",
    "mean(df_edad_caf$edad_estimada, na.rm = TRUE)"
   ]
  },
  {
   "cell_type": "markdown",
   "metadata": {},
   "source": [
    "Observamos una pequeña variacion entre las medias al calcularlas y en la grafica no se aprecia debido al sesgo introducido al estimar la edad"
   ]
  },
  {
   "cell_type": "code",
   "execution_count": 21,
   "metadata": {},
   "outputs": [
    {
     "data": {
      "text/plain": [
       "\n",
       "\tShapiro-Wilk normality test\n",
       "\n",
       "data:  df_edad_caf$edad_estimada\n",
       "W = 0.96645, p-value = 0.0004374\n"
      ]
     },
     "metadata": {},
     "output_type": "display_data"
    }
   ],
   "source": [
    "shapiro.test(df_edad_caf$edad_estimada)"
   ]
  },
  {
   "cell_type": "code",
   "execution_count": 22,
   "metadata": {},
   "outputs": [
    {
     "data": {
      "text/plain": [
       "\n",
       "\tShapiro-Wilk normality test\n",
       "\n",
       "data:  df_edad_saf$edad_estimada\n",
       "W = 0.96698, p-value = 4.797e-11\n"
      ]
     },
     "metadata": {},
     "output_type": "display_data"
    }
   ],
   "source": [
    "shapiro.test(df_edad_saf$edad_estimada)"
   ]
  },
  {
   "cell_type": "markdown",
   "metadata": {},
   "source": [
    "Al obtener los test de Shapiro con un p-value tan bajo no son gaussianas por lo que tendremos que aplicar el test de wilcox-mann-whitney"
   ]
  },
  {
   "cell_type": "code",
   "execution_count": 23,
   "metadata": {},
   "outputs": [
    {
     "data": {
      "text/plain": [
       "\n",
       "\tWilcoxon rank sum test with continuity correction\n",
       "\n",
       "data:  edad_estimada by first_degree_hx\n",
       "W = 1239200, p-value = 2.339e-06\n",
       "alternative hypothesis: true location shift is not equal to 0\n"
      ]
     },
     "metadata": {},
     "output_type": "display_data"
    }
   ],
   "source": [
    "wilcox.test(edad_estimada ~ first_degree_hx, data=df2, na.rm = TRUE) "
   ]
  },
  {
   "cell_type": "markdown",
   "metadata": {},
   "source": [
    "El p-value < 0.05 del test de wilcox indica que **existe relación entre edad y antecedentes familiares** como se puede comprobar en el gráfico siguiente donde comparamos las distribuciones de densidad"
   ]
  },
  {
   "cell_type": "markdown",
   "metadata": {},
   "source": [
    "Dibuja la curva de densidad de probabilidad de cómo varía la edad de aparición del cancer en función de si ha habido antecedentes familiares o no."
   ]
  },
  {
   "cell_type": "code",
   "execution_count": 26,
   "metadata": {},
   "outputs": [
    {
     "data": {},
     "metadata": {},
     "output_type": "display_data"
    },
    {
     "data": {
      "image/png": "[encoded data removed]",
      "text/plain": [
       "plot without title"
      ]
     },
     "metadata": {},
     "output_type": "display_data"
    }
   ],
   "source": [
    "#vamos a comparar si dos variables independientes vienen de la misma distribución\n",
    "ggplot(df2,aes(x=edad_estimada,group=first_degree_hx,color=first_degree_hx))+geom_density()"
   ]
  },
  {
   "cell_type": "markdown",
   "metadata": {},
   "source": [
    "En este gráfico se puede comprobar que no se trata de distribuciones gaussianas y ademas que existe diferencia entre las mismas tal y como nos lo indica el test de wilcox."
   ]
  },
  {
   "cell_type": "markdown",
   "metadata": {},
   "source": [
    "#### Edad y BIRADS"
   ]
  },
  {
   "cell_type": "markdown",
   "metadata": {},
   "source": [
    "Representa en un diagrama de cajas cómo varía la edad de aparición del cancer en función de la densidad del cancder (BIRADS)."
   ]
  },
  {
   "cell_type": "code",
   "execution_count": 27,
   "metadata": {},
   "outputs": [],
   "source": [
    "df2 <- df2 %>% filter(!is.na(BIRADS_breast_density))"
   ]
  },
  {
   "cell_type": "code",
   "execution_count": 28,
   "metadata": {},
   "outputs": [],
   "source": [
    "df.grupo1 <- subset(df2, BIRADS_breast_density == 'Almost entirely fat')\n",
    "df.grupo2 <- subset(df2, BIRADS_breast_density == 'Scattered fibroglandular densities')\n",
    "df.grupo3 <- subset(df2, BIRADS_breast_density == 'Heterogeneously dense')\n",
    "df.grupo4 <- subset(df2, BIRADS_breast_density == 'Extremely dense')"
   ]
  },
  {
   "cell_type": "code",
   "execution_count": 29,
   "metadata": {},
   "outputs": [
    {
     "data": {
      "text/plain": [
       "\n",
       "\tShapiro-Wilk normality test\n",
       "\n",
       "data:  df.grupo1$edad_estimada\n",
       "W = 0.97898, p-value = 0.0003947\n"
      ]
     },
     "metadata": {},
     "output_type": "display_data"
    }
   ],
   "source": [
    "shapiro.test(df.grupo1$edad_estimada)"
   ]
  },
  {
   "cell_type": "code",
   "execution_count": 30,
   "metadata": {},
   "outputs": [
    {
     "data": {
      "text/plain": [
       "\n",
       "\tShapiro-Wilk normality test\n",
       "\n",
       "data:  df.grupo2$edad_estimada\n",
       "W = 0.96289, p-value < 2.2e-16\n"
      ]
     },
     "metadata": {},
     "output_type": "display_data"
    }
   ],
   "source": [
    "shapiro.test(df.grupo2$edad_estimada)"
   ]
  },
  {
   "cell_type": "code",
   "execution_count": 31,
   "metadata": {},
   "outputs": [
    {
     "data": {
      "text/plain": [
       "\n",
       "\tShapiro-Wilk normality test\n",
       "\n",
       "data:  df.grupo3$edad_estimada\n",
       "W = 0.95669, p-value < 2.2e-16\n"
      ]
     },
     "metadata": {},
     "output_type": "display_data"
    }
   ],
   "source": [
    "shapiro.test(df.grupo3$edad_estimada)"
   ]
  },
  {
   "cell_type": "code",
   "execution_count": 32,
   "metadata": {},
   "outputs": [
    {
     "data": {
      "text/plain": [
       "\n",
       "\tShapiro-Wilk normality test\n",
       "\n",
       "data:  df.grupo4$edad_estimada\n",
       "W = 0.93339, p-value = 7.871e-09\n"
      ]
     },
     "metadata": {},
     "output_type": "display_data"
    }
   ],
   "source": [
    "shapiro.test(df.grupo4$edad_estimada)"
   ]
  },
  {
   "cell_type": "code",
   "execution_count": 33,
   "metadata": {},
   "outputs": [],
   "source": [
    "df.birads <- na.omit(data.frame(edad = df2$edad_estimada, birads = df2$BIRADS_breast_density))"
   ]
  },
  {
   "cell_type": "code",
   "execution_count": 35,
   "metadata": {},
   "outputs": [
    {
     "data": {},
     "metadata": {},
     "output_type": "display_data"
    },
    {
     "data": {
      "image/png": "[encoded data removed]",
      "text/plain": [
       "plot without title"
      ]
     },
     "metadata": {},
     "output_type": "display_data"
    }
   ],
   "source": [
    "ggplot(data=df.birads,aes(x=birads, y = edad, color = birads)) +  geom_boxplot() + labs(title=\"Edad/Tipo cancer\")"
   ]
  },
  {
   "cell_type": "markdown",
   "metadata": {},
   "source": [
    "Debido a que segun Shapiro no son gaussianas, para comparar las medias utilizamos Kruskal-Walls"
   ]
  },
  {
   "cell_type": "code",
   "execution_count": 37,
   "metadata": {},
   "outputs": [],
   "source": [
    "kruskal <- rbind(data.frame(value = df.grupo1$edad_estimada, cl=\"1\"),data.frame(value = df.grupo2$edad_estimada, cl=\"2\"), data.frame(value = df.grupo3$edad_estimada, cl=\"3\"), data.frame(value = df.grupo4$edad_estimada, cl=\"4\"))"
   ]
  },
  {
   "cell_type": "code",
   "execution_count": 38,
   "metadata": {},
   "outputs": [
    {
     "data": {
      "text/plain": [
       "\n",
       "\tKruskal-Wallis rank sum test\n",
       "\n",
       "data:  value by cl\n",
       "Kruskal-Wallis chi-squared = 147.68, df = 3, p-value < 2.2e-16\n"
      ]
     },
     "metadata": {},
     "output_type": "display_data"
    }
   ],
   "source": [
    "kruskal.test(data = kruskal, value ~ cl)"
   ]
  },
  {
   "cell_type": "markdown",
   "metadata": {},
   "source": [
    "#### Conclusiones\n",
    "Al no tratarse de variables gaussianas (comprobado mediante el test de Shapiro), realizamos Kruskal que nos da un p-value < 0.05 indicando que existe alguna media distinta de las que estamos evaluando tal y como se puede apreciar en el diagrama de cajas que hemos realizado anteriormente. **Podemos concluir que la edad varía en función del tipo de cancer**"
   ]
  },
  {
   "cell_type": "markdown",
   "metadata": {},
   "source": [
    "#### Tablas de contingencia: BIRADS"
   ]
  },
  {
   "cell_type": "markdown",
   "metadata": {},
   "source": [
    "¿Todos los  tipos de cancer (BIRADS) son igual de probables? ¿Con que test lo comprobarías?"
   ]
  },
  {
   "cell_type": "markdown",
   "metadata": {},
   "source": [
    "Para comprobar si son igual de probables utilizaremos el test de homogeneidad"
   ]
  },
  {
   "cell_type": "code",
   "execution_count": 42,
   "metadata": {},
   "outputs": [
    {
     "data": {
      "text/html": [
       "<table>\n",
       "<thead><tr><th></th><th scope=col>cases</th><th scope=col>ratio</th></tr></thead>\n",
       "<tbody>\n",
       "\t<tr><th scope=row>Almost entirely fat</th><td> 279     </td><td> 8.086957</td></tr>\n",
       "\t<tr><th scope=row>Scattered fibroglandular densities</th><td>1572     </td><td>45.565217</td></tr>\n",
       "\t<tr><th scope=row>Heterogeneously dense</th><td>1364     </td><td>39.536232</td></tr>\n",
       "\t<tr><th scope=row>Extremely dense</th><td> 235     </td><td> 6.811594</td></tr>\n",
       "</tbody>\n",
       "</table>\n"
      ],
      "text/latex": [
       "\\begin{tabular}{r|ll}\n",
       "  & cases & ratio\\\\\n",
       "\\hline\n",
       "\tAlmost entirely fat &  279      &  8.086957\\\\\n",
       "\tScattered fibroglandular densities & 1572      & 45.565217\\\\\n",
       "\tHeterogeneously dense & 1364      & 39.536232\\\\\n",
       "\tExtremely dense &  235      &  6.811594\\\\\n",
       "\\end{tabular}\n"
      ],
      "text/markdown": [
       "\n",
       "| <!--/--> | cases | ratio | \n",
       "|---|---|---|---|\n",
       "| Almost entirely fat |  279      |  8.086957 | \n",
       "| Scattered fibroglandular densities | 1572      | 45.565217 | \n",
       "| Heterogeneously dense | 1364      | 39.536232 | \n",
       "| Extremely dense |  235      |  6.811594 | \n",
       "\n",
       "\n"
      ],
      "text/plain": [
       "                                   cases ratio    \n",
       "Almost entirely fat                 279   8.086957\n",
       "Scattered fibroglandular densities 1572  45.565217\n",
       "Heterogeneously dense              1364  39.536232\n",
       "Extremely dense                     235   6.811594"
      ]
     },
     "metadata": {},
     "output_type": "display_data"
    }
   ],
   "source": [
    "birads <- factor(na.omit(df2$BIRADS_breast_density))\n",
    "birads.df2 <- data.frame(cases = summary(birads))\n",
    "birads.df2$ratio <- c(birads.df2$cases/sum(birads.df2$cases)*100)\n",
    "birads.df2"
   ]
  },
  {
   "cell_type": "code",
   "execution_count": 41,
   "metadata": {},
   "outputs": [
    {
     "data": {
      "text/plain": [
       "\n",
       "\tChi-squared test for given probabilities\n",
       "\n",
       "data:  prueba\n",
       "X-squared = 1726.5, df = 3, p-value < 2.2e-16\n"
      ]
     },
     "metadata": {},
     "output_type": "display_data"
    },
    {
     "data": {
      "text/html": [
       "0"
      ],
      "text/latex": [
       "0"
      ],
      "text/markdown": [
       "0"
      ],
      "text/plain": [
       "[1] 0"
      ]
     },
     "metadata": {},
     "output_type": "display_data"
    }
   ],
   "source": [
    "#test de homogeneidad\n",
    "prueba <- c(nrow(df.grupo1),nrow(df.grupo2),nrow(df.grupo3),nrow(df.grupo4))\n",
    "cst <- chisq.test(prueba)\n",
    "cst\n",
    "cst$p.value"
   ]
  },
  {
   "cell_type": "markdown",
   "metadata": {},
   "source": [
    "#### DEBIDO AL TEST DE HOMOGENEIDAD LAS VARIABLES SE ENCUENTRAN RELACIONADAS. EXISTEN TIPOS DE CANCER CON UNA INCIDENCIA MAYOR QUE OTROS"
   ]
  },
  {
   "cell_type": "markdown",
   "metadata": {},
   "source": [
    "¿Cual es el tipo de cancer (BIRADS) más común? ¿Con qué proporción?"
   ]
  },
  {
   "cell_type": "markdown",
   "metadata": {},
   "source": [
    "El tipo de cancer más común es el Scattered fibroglandular densities con una proporción (si suponemos los NAs son otros tipos desconocidos) del 45.57% "
   ]
  },
  {
   "cell_type": "markdown",
   "metadata": {},
   "source": [
    "¿Depende el tipo de cancer (BIRADS) de si ha habido o no antecedentes familiares?"
   ]
  },
  {
   "cell_type": "code",
   "execution_count": 43,
   "metadata": {},
   "outputs": [
    {
     "data": {
      "text/plain": [
       "    \n",
       "     Almost entirely fat Scattered fibroglandular densities\n",
       "  NO                 223                               1324\n",
       "  SI                  56                                248\n",
       "    \n",
       "     Heterogeneously dense Extremely dense\n",
       "  NO                  1135             190\n",
       "  SI                   229              45"
      ]
     },
     "metadata": {},
     "output_type": "display_data"
    }
   ],
   "source": [
    "tab1 <- table(df2$first_degree_hx,df2$BIRADS_breast_density)\n",
    "tab1"
   ]
  },
  {
   "cell_type": "code",
   "execution_count": 44,
   "metadata": {},
   "outputs": [
    {
     "data": {
      "text/plain": [
       "\n",
       "\tPearson's Chi-squared test\n",
       "\n",
       "data:  tab1\n",
       "X-squared = 4.2475, df = 3, p-value = 0.236\n"
      ]
     },
     "metadata": {},
     "output_type": "display_data"
    }
   ],
   "source": [
    "chisq.test(tab1)"
   ]
  },
  {
   "cell_type": "markdown",
   "metadata": {},
   "source": [
    "Realizamos el test de independencia de chi cuadrado\n",
    "p-value > 0.05 por lo que las variables son estadisticamente independientes y no hay relacion entre los antecedentes familiares y el tipo de cancer \n",
    "#### NO EXISTE RELACIÓN ENTRE SI EXISTEN ANTECEDENTES DE CANCER Y EL TIPO DE CANCER"
   ]
  },
  {
   "cell_type": "markdown",
   "metadata": {},
   "source": [
    "¿Depende el tipo de cancer BIRADS del grupo étnico?"
   ]
  },
  {
   "cell_type": "code",
   "execution_count": 45,
   "metadata": {},
   "outputs": [],
   "source": [
    "df2 <- df2 %>% filter(!is.na(race_eth))"
   ]
  },
  {
   "cell_type": "code",
   "execution_count": 46,
   "metadata": {},
   "outputs": [
    {
     "data": {
      "text/plain": [
       "                        \n",
       "                         Almost entirely fat Scattered fibroglandular densities\n",
       "  Non-Hispanic white                     197                               1151\n",
       "  Non-Hispanic black                      19                                 92\n",
       "  Asian/Pacific Islander                  10                                 50\n",
       "  Native American                          1                                  7\n",
       "  Hispanic                                23                                 91\n",
       "  Other/mixed                              2                                 17\n",
       "                        \n",
       "                         Heterogeneously dense Extremely dense\n",
       "  Non-Hispanic white                       959             166\n",
       "  Non-Hispanic black                        81               8\n",
       "  Asian/Pacific Islander                    83              27\n",
       "  Native American                            5               3\n",
       "  Hispanic                                  92              11\n",
       "  Other/mixed                               15               3"
      ]
     },
     "metadata": {},
     "output_type": "display_data"
    }
   ],
   "source": [
    "tab2 <- table(df2$race_eth,df2$BIRADS_breast_density)\n",
    "tab2"
   ]
  },
  {
   "cell_type": "code",
   "execution_count": 47,
   "metadata": {},
   "outputs": [],
   "source": [
    "chi2 <- chisq.test(tab2,simulate.p.value = T)"
   ]
  },
  {
   "cell_type": "code",
   "execution_count": 48,
   "metadata": {},
   "outputs": [
    {
     "data": {
      "text/plain": [
       "\n",
       "\tPearson's Chi-squared test with simulated p-value (based on 2000\n",
       "\treplicates)\n",
       "\n",
       "data:  tab2\n",
       "X-squared = 45.76, df = NA, p-value = 0.0004998\n"
      ]
     },
     "metadata": {},
     "output_type": "display_data"
    }
   ],
   "source": [
    "chi2"
   ]
  },
  {
   "cell_type": "markdown",
   "metadata": {},
   "source": [
    "Debido a que algunas celdas tienes un valor pequeño tendremos que utilizar chi cuadrado con la corrección de Yates. El p-value nos indica que existe relación entre las variables\n",
    "#### DADO EL BAJO VALOR DE P-VALUE EXISTE RELACIÓN ENTRE ETNIA Y TIPO DE CANCER"
   ]
  },
  {
   "cell_type": "code",
   "execution_count": 49,
   "metadata": {},
   "outputs": [
    {
     "data": {
      "text/plain": [
       "                        \n",
       "                         Almost entirely fat Scattered fibroglandular densities\n",
       "  Non-Hispanic white                    0.11                               2.06\n",
       "  Non-Hispanic black                    1.07                               0.06\n",
       "  Asian/Pacific Islander                2.25                              20.55\n",
       "  Native American                       0.15                               0.02\n",
       "  Hispanic                              3.67                               1.14\n",
       "  Other/mixed                           0.72                               0.01\n",
       "                        \n",
       "                         Heterogeneously dense Extremely dense\n",
       "  Non-Hispanic white                      1.09            0.65\n",
       "  Non-Hispanic black                      0.08            5.63\n",
       "  Asian/Pacific Islander                  7.84           41.83\n",
       "  Native American                         0.63            6.89\n",
       "  Hispanic                                0.89            2.53\n",
       "  Other/mixed                             0.02            0.14"
      ]
     },
     "metadata": {},
     "output_type": "display_data"
    }
   ],
   "source": [
    "contrib <- 100*chi2$residuals^2/chi2$statistic\n",
    "round(contrib,2)"
   ]
  },
  {
   "cell_type": "markdown",
   "metadata": {},
   "source": [
    "En la tabla anterior se puede observar la relación relativa entre las variables etnia y tipo de cancer"
   ]
  },
  {
   "cell_type": "markdown",
   "metadata": {},
   "source": [
    "¿Cual es la probabilidad (con su margen de error del 95%) de que un *Native American* tenga un cancer de tipo *Almost entirely fat*?\n",
    "\n",
    "*Aviso*: Cuidado con los NA"
   ]
  },
  {
   "cell_type": "markdown",
   "metadata": {},
   "source": [
    "El cálculo lo realizaremos sin NAs por lo que crearemos subgrupos cogiendo los parámetros que nos interesen y de esta forma los NAs no influirán"
   ]
  },
  {
   "cell_type": "markdown",
   "metadata": {},
   "source": [
    "Para comprobarlo lo realizaremos de dos formas:\n",
    "* haciendo la tabla de frecuencias\n",
    "* mediante la aproximacion a una distribucion binomial"
   ]
  },
  {
   "cell_type": "code",
   "execution_count": 78,
   "metadata": {},
   "outputs": [
    {
     "data": {
      "text/html": [
       "1"
      ],
      "text/latex": [
       "1"
      ],
      "text/markdown": [
       "1"
      ],
      "text/plain": [
       "[1] 1"
      ]
     },
     "metadata": {},
     "output_type": "display_data"
    }
   ],
   "source": [
    "#grupo1\n",
    "#hacemos un subgrupo que contenga \"Native American\" con cancer del tipo \"Almost entirely fat\"\n",
    "grupo1_native_american <- subset(df.grupo1, race_eth == 'Native American')\n",
    "tipo1_na <- nrow(grupo1_native_american)\n",
    "tipo1_na"
   ]
  },
  {
   "cell_type": "code",
   "execution_count": 79,
   "metadata": {},
   "outputs": [
    {
     "data": {
      "text/html": [
       "251"
      ],
      "text/latex": [
       "251"
      ],
      "text/markdown": [
       "251"
      ],
      "text/plain": [
       "[1] 251"
      ]
     },
     "metadata": {},
     "output_type": "display_data"
    }
   ],
   "source": [
    "#grupo1\n",
    "#calculamos el tipo de cancer \"Almost entirely fat\" para el resto de etnias\n",
    "grupo1_otros <- subset(df.grupo1,race_eth == 'Non-Hispanic white' | race_eth == 'Non-Hispanic black' | race_eth == 'Asian/Pacific Islander' | race_eth == 'Hispanic' | race_eth == 'Other/mixed')\n",
    "tipo1_otros <- nrow(grupo1_otros)\n",
    "tipo1_otros"
   ]
  },
  {
   "cell_type": "code",
   "execution_count": 80,
   "metadata": {},
   "outputs": [
    {
     "data": {
      "text/html": [
       "7"
      ],
      "text/latex": [
       "7"
      ],
      "text/markdown": [
       "7"
      ],
      "text/plain": [
       "[1] 7"
      ]
     },
     "metadata": {},
     "output_type": "display_data"
    }
   ],
   "source": [
    "#grupo2\n",
    "#hacemos un subgrupo que contenga \"Native American\" con cancer del tipo 2\n",
    "grupo2_native_american <- subset(df.grupo2, race_eth == 'Native American')\n",
    "nrow(grupo2_native_american)"
   ]
  },
  {
   "cell_type": "code",
   "execution_count": 81,
   "metadata": {},
   "outputs": [
    {
     "data": {
      "text/html": [
       "1401"
      ],
      "text/latex": [
       "1401"
      ],
      "text/markdown": [
       "1401"
      ],
      "text/plain": [
       "[1] 1401"
      ]
     },
     "metadata": {},
     "output_type": "display_data"
    }
   ],
   "source": [
    "#grupo2\n",
    "#calculamos el tipo de cancer 2 para el resto de etnias\n",
    "grupo2_otros <- subset(df.grupo2,race_eth == 'Non-Hispanic white' | race_eth == 'Non-Hispanic black' | race_eth == 'Asian/Pacific Islander' | race_eth == 'Hispanic' | race_eth == 'Other/mixed')\n",
    "nrow(grupo2_otros)"
   ]
  },
  {
   "cell_type": "code",
   "execution_count": 82,
   "metadata": {},
   "outputs": [
    {
     "data": {
      "text/html": [
       "5"
      ],
      "text/latex": [
       "5"
      ],
      "text/markdown": [
       "5"
      ],
      "text/plain": [
       "[1] 5"
      ]
     },
     "metadata": {},
     "output_type": "display_data"
    }
   ],
   "source": [
    "#grupo3\n",
    "#hacemos un subgrupo que contenga \"Native American\" con cancer del tipo 3\n",
    "grupo3_native_american <- subset(df.grupo3, race_eth == 'Native American')\n",
    "nrow(grupo3_native_american)"
   ]
  },
  {
   "cell_type": "code",
   "execution_count": 83,
   "metadata": {},
   "outputs": [
    {
     "data": {
      "text/html": [
       "1230"
      ],
      "text/latex": [
       "1230"
      ],
      "text/markdown": [
       "1230"
      ],
      "text/plain": [
       "[1] 1230"
      ]
     },
     "metadata": {},
     "output_type": "display_data"
    }
   ],
   "source": [
    "#grupo3\n",
    "#calculamos el tipo de cancer 3 para el resto de etnias\n",
    "grupo3_otros <- subset(df.grupo3,race_eth == 'Non-Hispanic white' | race_eth == 'Non-Hispanic black' | race_eth == 'Asian/Pacific Islander' | race_eth == 'Hispanic' | race_eth == 'Other/mixed')\n",
    "nrow(grupo3_otros)"
   ]
  },
  {
   "cell_type": "code",
   "execution_count": 84,
   "metadata": {},
   "outputs": [
    {
     "data": {
      "text/html": [
       "3"
      ],
      "text/latex": [
       "3"
      ],
      "text/markdown": [
       "3"
      ],
      "text/plain": [
       "[1] 3"
      ]
     },
     "metadata": {},
     "output_type": "display_data"
    }
   ],
   "source": [
    "#grupo4\n",
    "#hacemos un subgrupo que contenga \"Native American\" con cancer del tipo 4\n",
    "grupo4_native_american <- subset(df.grupo4, race_eth == 'Native American')\n",
    "nrow(grupo4_native_american)"
   ]
  },
  {
   "cell_type": "code",
   "execution_count": 85,
   "metadata": {},
   "outputs": [
    {
     "data": {
      "text/html": [
       "1401"
      ],
      "text/latex": [
       "1401"
      ],
      "text/markdown": [
       "1401"
      ],
      "text/plain": [
       "[1] 1401"
      ]
     },
     "metadata": {},
     "output_type": "display_data"
    }
   ],
   "source": [
    "#grupo4\n",
    "#calculamos el tipo de cancer 4 para el resto de etnias\n",
    "grupo4_otros <- subset(df.grupo2,race_eth == 'Non-Hispanic white' | race_eth == 'Non-Hispanic black' | race_eth == 'Asian/Pacific Islander' | race_eth == 'Hispanic' | race_eth == 'Other/mixed')\n",
    "nrow(grupo4_otros)"
   ]
  },
  {
   "cell_type": "code",
   "execution_count": 86,
   "metadata": {},
   "outputs": [
    {
     "data": {
      "text/html": [
       "15"
      ],
      "text/latex": [
       "15"
      ],
      "text/markdown": [
       "15"
      ],
      "text/plain": [
       "[1] 15"
      ]
     },
     "metadata": {},
     "output_type": "display_data"
    }
   ],
   "source": [
    "#native american y grupo 2,3 y 4\n",
    "na_otros_tipos <- nrow(grupo2_native_american) + nrow(grupo3_native_american) + nrow(grupo4_native_american)\n",
    "na_otros_tipos"
   ]
  },
  {
   "cell_type": "code",
   "execution_count": 87,
   "metadata": {},
   "outputs": [
    {
     "data": {
      "text/html": [
       "4032"
      ],
      "text/latex": [
       "4032"
      ],
      "text/markdown": [
       "4032"
      ],
      "text/plain": [
       "[1] 4032"
      ]
     },
     "metadata": {},
     "output_type": "display_data"
    }
   ],
   "source": [
    "#otras etnias y grupo 2,3,4\n",
    "otras_etnias_otros_tipos <- nrow(grupo2_otros) + nrow(grupo3_otros) + nrow(grupo4_otros)\n",
    "otras_etnias_otros_tipos"
   ]
  },
  {
   "cell_type": "code",
   "execution_count": 89,
   "metadata": {},
   "outputs": [
    {
     "data": {
      "text/plain": [
       "\n",
       "\tExact binomial test\n",
       "\n",
       "data:  1 and 17\n",
       "number of successes = 1, number of trials = 17, p-value = 0.0002747\n",
       "alternative hypothesis: true probability of success is not equal to 0.5\n",
       "95 percent confidence interval:\n",
       " 0.001488174 0.286889397\n",
       "sample estimates:\n",
       "probability of success \n",
       "            0.05882353 \n"
      ]
     },
     "metadata": {},
     "output_type": "display_data"
    }
   ],
   "source": [
    "binom.test(1,17,conf.level = 0.95)"
   ]
  },
  {
   "cell_type": "code",
   "execution_count": null,
   "metadata": {},
   "outputs": [],
   "source": [
    "La probabilidad es 5.8% y el rango del 95 % es [0.001488174,0.286889397]"
   ]
  }
 ],
 "metadata": {
  "kernelspec": {
   "display_name": "R",
   "language": "R",
   "name": "ir"
  },
  "language_info": {
   "codemirror_mode": "r",
   "file_extension": ".r",
   "mimetype": "text/x-r-source",
   "name": "R",
   "pygments_lexer": "r",
   "version": "3.2.3"
  }
 },
 "nbformat": 4,
 "nbformat_minor": 1
}
